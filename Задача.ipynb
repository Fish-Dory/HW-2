{
  "cells": [
    {
      "cell_type": "markdown",
      "metadata": {
        "id": "view-in-github",
        "colab_type": "text"
      },
      "source": [
        "<a href=\"https://colab.research.google.com/github/Fish-Dory/HW-2/blob/main/Untitled0.ipynb\" target=\"_parent\"><img src=\"https://colab.research.google.com/assets/colab-badge.svg\" alt=\"Open In Colab\"/></a>"
      ]
    },
    {
      "cell_type": "code",
      "execution_count": null,
      "metadata": {
        "colab": {
          "background_save": true,
          "base_uri": "https://localhost:8080/",
          "height": 158
        },
        "id": "2qSBdaD-Ud5F",
        "outputId": "2690a15e-7fe5-4c01-e8d7-fe083f4872bb"
      },
      "outputs": [
        {
          "data": {
            "text/plain": [
              "Power_divergenceResult(statistic=4.36, pvalue=0.3594720674366305)"
            ]
          },
          "execution_count": 3,
          "metadata": {},
          "output_type": "execute_result"
        }
      ],
      "source": [
        "expected = [50,50,50,50,50]\n",
        "observed = [19, 50, 47, 53, 60]\n",
        "import scipy.stats as stats\n",
        "\n",
        "#perform Chi-Square Goodness of Fit Test\n",
        "stats.chisquare(f_obs=observed, f_exp=expected)"
      ]
    },
    {
      "cell_type": "code",
      "execution_count": null,
      "metadata": {
        "colab": {
          "base_uri": "https://localhost:8080/"
        },
        "id": "2VMsMxNOUsyi",
        "outputId": "3037d3c0-953f-4ae7-b6be-8303b0736af8"
      },
      "outputs": [
        {
          "data": {
            "text/plain": [
              "0.0625"
            ]
          },
          "execution_count": 1,
          "metadata": {},
          "output_type": "execute_result"
        }
      ],
      "source": [
        "import numpy as np\n",
        "\n",
        "n = 10000\n",
        "time_between_calls = np.random.default_rng().exponential(scale=10, size=n)\n",
        "\n",
        "x = ((time_between_calls < 5).sum())/n\n",
        "y = ((time_between_calls < 4).sum())/n\n",
        "x-y"
      ]
    },
    {
      "cell_type": "markdown",
      "source": [
        "Вероятность того, что клиент позвонит в ближайшие 4-5 минут составляет 0.0625"
      ],
      "metadata": {
        "id": "NzT3rbjzV69O"
      }
    }
  ],
  "metadata": {
    "colab": {
      "provenance": [],
      "authorship_tag": "ABX9TyOHg79VCJrLGIJj+Lc1mxtZ",
      "include_colab_link": true
    },
    "kernelspec": {
      "display_name": "Python 3",
      "name": "python3"
    },
    "language_info": {
      "name": "python"
    }
  },
  "nbformat": 4,
  "nbformat_minor": 0
}
